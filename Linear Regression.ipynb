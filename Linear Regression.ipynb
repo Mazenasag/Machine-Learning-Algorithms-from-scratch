{
  "cells": [
    {
      "cell_type": "code",
      "execution_count": 1,
      "metadata": {
        "id": "Z5RoHKMUBQZF"
      },
      "outputs": [],
      "source": [
        "import numpy as np\n",
        "import matplotlib.pyplot as plt\n",
        "import pandas as pd"
      ]
    },
    {
      "cell_type": "code",
      "execution_count": 2,
      "metadata": {
        "id": "0wtyeGE6BePU"
      },
      "outputs": [],
      "source": [
        "data = {\n",
        "    \"Hours\": [2.5, 5.1, 3.2, 8.5, 3.5, 1.5, 9.2, 5.5, 8.3, 2.7,\n",
        "              7.7, 5.9, 4.5, 3.3, 1.1, 8.9, 2.5, 1.9, 6.1, 7.4,\n",
        "              2.7, 4.8, 3.8, 6.9, 7.8],\n",
        "    \"Scores\": [21, 47, 27, 75, 30, 20, 88, 60, 81, 25,\n",
        "               85, 62, 41, 42, 17, 95, 30, 24, 67, 69,\n",
        "               30, 54, 35, 76, 86]\n",
        "}"
      ]
    },
    {
      "cell_type": "code",
      "execution_count": 24,
      "metadata": {
        "colab": {
          "base_uri": "https://localhost:8080/",
          "height": 833
        },
        "id": "cJaZKgLOCAYs",
        "outputId": "13298b80-3808-4388-ac29-538117479578"
      },
      "outputs": [
        {
          "data": {
            "text/html": [
              "<div>\n",
              "<style scoped>\n",
              "    .dataframe tbody tr th:only-of-type {\n",
              "        vertical-align: middle;\n",
              "    }\n",
              "\n",
              "    .dataframe tbody tr th {\n",
              "        vertical-align: top;\n",
              "    }\n",
              "\n",
              "    .dataframe thead th {\n",
              "        text-align: right;\n",
              "    }\n",
              "</style>\n",
              "<table border=\"1\" class=\"dataframe\">\n",
              "  <thead>\n",
              "    <tr style=\"text-align: right;\">\n",
              "      <th></th>\n",
              "      <th>Hours</th>\n",
              "      <th>Scores</th>\n",
              "    </tr>\n",
              "  </thead>\n",
              "  <tbody>\n",
              "    <tr>\n",
              "      <th>0</th>\n",
              "      <td>2.5</td>\n",
              "      <td>21</td>\n",
              "    </tr>\n",
              "    <tr>\n",
              "      <th>1</th>\n",
              "      <td>5.1</td>\n",
              "      <td>47</td>\n",
              "    </tr>\n",
              "    <tr>\n",
              "      <th>2</th>\n",
              "      <td>3.2</td>\n",
              "      <td>27</td>\n",
              "    </tr>\n",
              "    <tr>\n",
              "      <th>3</th>\n",
              "      <td>8.5</td>\n",
              "      <td>75</td>\n",
              "    </tr>\n",
              "    <tr>\n",
              "      <th>4</th>\n",
              "      <td>3.5</td>\n",
              "      <td>30</td>\n",
              "    </tr>\n",
              "    <tr>\n",
              "      <th>5</th>\n",
              "      <td>1.5</td>\n",
              "      <td>20</td>\n",
              "    </tr>\n",
              "    <tr>\n",
              "      <th>6</th>\n",
              "      <td>9.2</td>\n",
              "      <td>88</td>\n",
              "    </tr>\n",
              "    <tr>\n",
              "      <th>7</th>\n",
              "      <td>5.5</td>\n",
              "      <td>60</td>\n",
              "    </tr>\n",
              "    <tr>\n",
              "      <th>8</th>\n",
              "      <td>8.3</td>\n",
              "      <td>81</td>\n",
              "    </tr>\n",
              "    <tr>\n",
              "      <th>9</th>\n",
              "      <td>2.7</td>\n",
              "      <td>25</td>\n",
              "    </tr>\n",
              "    <tr>\n",
              "      <th>10</th>\n",
              "      <td>7.7</td>\n",
              "      <td>85</td>\n",
              "    </tr>\n",
              "    <tr>\n",
              "      <th>11</th>\n",
              "      <td>5.9</td>\n",
              "      <td>62</td>\n",
              "    </tr>\n",
              "    <tr>\n",
              "      <th>12</th>\n",
              "      <td>4.5</td>\n",
              "      <td>41</td>\n",
              "    </tr>\n",
              "    <tr>\n",
              "      <th>13</th>\n",
              "      <td>3.3</td>\n",
              "      <td>42</td>\n",
              "    </tr>\n",
              "    <tr>\n",
              "      <th>14</th>\n",
              "      <td>1.1</td>\n",
              "      <td>17</td>\n",
              "    </tr>\n",
              "    <tr>\n",
              "      <th>15</th>\n",
              "      <td>8.9</td>\n",
              "      <td>95</td>\n",
              "    </tr>\n",
              "    <tr>\n",
              "      <th>16</th>\n",
              "      <td>2.5</td>\n",
              "      <td>30</td>\n",
              "    </tr>\n",
              "    <tr>\n",
              "      <th>17</th>\n",
              "      <td>1.9</td>\n",
              "      <td>24</td>\n",
              "    </tr>\n",
              "    <tr>\n",
              "      <th>18</th>\n",
              "      <td>6.1</td>\n",
              "      <td>67</td>\n",
              "    </tr>\n",
              "    <tr>\n",
              "      <th>19</th>\n",
              "      <td>7.4</td>\n",
              "      <td>69</td>\n",
              "    </tr>\n",
              "    <tr>\n",
              "      <th>20</th>\n",
              "      <td>2.7</td>\n",
              "      <td>30</td>\n",
              "    </tr>\n",
              "    <tr>\n",
              "      <th>21</th>\n",
              "      <td>4.8</td>\n",
              "      <td>54</td>\n",
              "    </tr>\n",
              "    <tr>\n",
              "      <th>22</th>\n",
              "      <td>3.8</td>\n",
              "      <td>35</td>\n",
              "    </tr>\n",
              "    <tr>\n",
              "      <th>23</th>\n",
              "      <td>6.9</td>\n",
              "      <td>76</td>\n",
              "    </tr>\n",
              "    <tr>\n",
              "      <th>24</th>\n",
              "      <td>7.8</td>\n",
              "      <td>86</td>\n",
              "    </tr>\n",
              "  </tbody>\n",
              "</table>\n",
              "</div>"
            ],
            "text/plain": [
              "    Hours  Scores\n",
              "0     2.5      21\n",
              "1     5.1      47\n",
              "2     3.2      27\n",
              "3     8.5      75\n",
              "4     3.5      30\n",
              "5     1.5      20\n",
              "6     9.2      88\n",
              "7     5.5      60\n",
              "8     8.3      81\n",
              "9     2.7      25\n",
              "10    7.7      85\n",
              "11    5.9      62\n",
              "12    4.5      41\n",
              "13    3.3      42\n",
              "14    1.1      17\n",
              "15    8.9      95\n",
              "16    2.5      30\n",
              "17    1.9      24\n",
              "18    6.1      67\n",
              "19    7.4      69\n",
              "20    2.7      30\n",
              "21    4.8      54\n",
              "22    3.8      35\n",
              "23    6.9      76\n",
              "24    7.8      86"
            ]
          },
          "execution_count": 24,
          "metadata": {},
          "output_type": "execute_result"
        }
      ],
      "source": [
        "df= pd.DataFrame(data)\n",
        "df"
      ]
    },
    {
      "cell_type": "code",
      "execution_count": 25,
      "metadata": {
        "id": "az5IJIibCGpY"
      },
      "outputs": [],
      "source": [
        "x =df[\"Hours\"]\n",
        "Y = df[\"Scores\"]"
      ]
    },
    {
      "cell_type": "code",
      "execution_count": 26,
      "metadata": {},
      "outputs": [
        {
          "data": {
            "text/plain": [
              "0     2.5\n",
              "1     5.1\n",
              "2     3.2\n",
              "3     8.5\n",
              "4     3.5\n",
              "5     1.5\n",
              "6     9.2\n",
              "7     5.5\n",
              "8     8.3\n",
              "9     2.7\n",
              "10    7.7\n",
              "11    5.9\n",
              "12    4.5\n",
              "13    3.3\n",
              "14    1.1\n",
              "15    8.9\n",
              "16    2.5\n",
              "17    1.9\n",
              "18    6.1\n",
              "19    7.4\n",
              "20    2.7\n",
              "21    4.8\n",
              "22    3.8\n",
              "23    6.9\n",
              "24    7.8\n",
              "Name: Hours, dtype: float64"
            ]
          },
          "execution_count": 26,
          "metadata": {},
          "output_type": "execute_result"
        }
      ],
      "source": [
        "x"
      ]
    },
    {
      "cell_type": "code",
      "execution_count": 6,
      "metadata": {
        "colab": {
          "base_uri": "https://localhost:8080/"
        },
        "id": "JDHuHLsFN6Cu",
        "outputId": "c466057b-db9d-4a8b-c074-e6369a88221f"
      },
      "outputs": [
        {
          "name": "stdout",
          "output_type": "stream",
          "text": [
            "(25,)\n",
            "(25,)\n"
          ]
        }
      ],
      "source": [
        "print(x.shape)\n",
        "print(Y.shape)"
      ]
    },
    {
      "cell_type": "code",
      "execution_count": 7,
      "metadata": {
        "colab": {
          "base_uri": "https://localhost:8080/",
          "height": 505
        },
        "id": "xdnsWAPXOYxJ",
        "outputId": "26f42f48-7bf9-4b08-c3ff-55c0e1ecb4d1"
      },
      "outputs": [
        {
          "data": {
            "text/plain": [
              "Text(0, 0.5, 'Scors')"
            ]
          },
          "execution_count": 7,
          "metadata": {},
          "output_type": "execute_result"
        },
        {
          "data": {
            "image/png": "[encoded data removed]",
            "text/plain": [
              "<Figure size 720x576 with 1 Axes>"
            ]
          },
          "metadata": {
            "needs_background": "light"
          },
          "output_type": "display_data"
        }
      ],
      "source": [
        "plt.figure(figsize=(10,8))\n",
        "plt.title(\"The distrubtion of the data\")\n",
        "plt.scatter(x,Y)\n",
        "plt.xlabel(\"Hours\")\n",
        "plt.ylabel(\"Scors\")"
      ]
    },
    {
      "cell_type": "code",
      "execution_count": 8,
      "metadata": {
        "id": "TGN5NrGOP1e4"
      },
      "outputs": [
        {
          "ename": "SyntaxError",
          "evalue": "invalid syntax (Temp/ipykernel_2772/4147364795.py, line 1)",
          "output_type": "error",
          "traceback": [
            "\u001b[1;36m  File \u001b[1;32m\"C:\\Users\\User\\AppData\\Local\\Temp/ipykernel_2772/4147364795.py\"\u001b[1;36m, line \u001b[1;32m1\u001b[0m\n\u001b[1;33m    from sklearn\u001b[0m\n\u001b[1;37m                 ^\u001b[0m\n\u001b[1;31mSyntaxError\u001b[0m\u001b[1;31m:\u001b[0m invalid syntax\n"
          ]
        }
      ],
      "source": [
        "from sklearn "
      ]
    },
    {
      "cell_type": "markdown",
      "metadata": {
        "id": "Lcx0XkJdPlSo"
      },
      "source": [
        "Linear equation:\n",
        "\n",
        "\n",
        "![download (6).png](data:image/png;base64,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)\n",
        "\n",
        "\n",
        "Cost Function: Mean Squared Error:\n",
        "\n",
        "\n",
        "![download.png](data:image/png;base64,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)\n",
        "\n",
        "\n",
        "Gradient descent\n",
        "\n",
        "![download.png](data:image/png;base64,iVBORw0KGgoAAAANSUhEUgAAAMYAAAA3CAYAAABXVTXhAAAAAXNSR0IArs4c6QAAAARnQU1BAACxjwv8YQUAAAAJcEhZcwAADsQAAA7EAZUrDhsAAAvfSURBVHhe7Z0FqBVNFMfniV2f3YmNif0U7MLAALsLUcRAsfBhi43xTOwWAwtbULADu1vs7tb95n/uWe+9+2ZvvHvf8+qdHyy75+zs3tk4M3NmzuyNMCRCo9G4kYDXGo3GBW0YGo0CbRguVK9eXVy5coUlTTijDUMyffp0ERERIQ4cOCBSpkzJWk04E9aGcf78eTKIU6dOiZIlS7JWowlzw3j+/Ll49OiRWLlypWjTpg1rNZowN4yaNWuKrFmz0vbnz59p7Y18+fJRLRPsxcyHJjTQ4xjMqFGjxMiRI8X9+/dFzpw5WRuTGzduiIIFC7IkxMKFC0WVKlXEhw8fWOMbSZIkEUeOHBHdu3cnuVSpUuLMmTO0rQkBYBgaw5BGgQLCkIbBGnumTJlCac0lEKRx0DmkYbBGEwroXqlYMGDAAFG6dGmWhChUqBBv+U9kZCStf/z4QWtNaKANI5acPn2at4S4fv26mDp1Kkv+A1/nxYsXLGlCAW0YAXDv3j3eEmLgwIHkn8SGYcOGicGDB7OkCQW0YTAJEyakdaJEiWjtC7ly5RLS32BJiNy5c/OWf9SoUUP069ePJU0ooA2DuXz5Mq1dawFfsPoblStX5i1NKLNz587fz1xFWBvGx48fRbFixUTixInF6tWrSVexYkVRoEAB0aVLF5J9wdXfQBfsokWLWNKEEr9+/aKWAcaNEPVQrlw52lbCvVOaAJE1jVsX7tu3b3lP8Lh7967x/ft3lgLj4sWLvOUb586d463QxVseP3z4YKRMmZIlB3hWc+fOZclJwDUGmhLNmjVjKSYoPeUPu3VH7tmzh5ofb968Yc3fj9Xf+O+//3grOGTPnl3kyZPHbYS+U6dOomnTpqJ48eKs8Q6eBUrJVatWscY3oqKi6Li9e/eyJvTwlscUKVKI9+/fs+QkY8aMvOUCG4iS7du3k0Vt3LiRNU5gfdhXr1491rizfv162j9o0CBj7NixtP348WPeaxgLFy4k3bRp01jzbyANnq4Li3xpWRt7nj9/TueaPXs2a9zBPmspaEeDBg0ofWz59OkTHY/nGar4k0dZsBiyAGPJHY93qW/fvsobKUt/0s+YMYM17uzatYv2o3lhUrJkSUM6piw5Qbp58+ax9G+AazIXVaHiDzhH165dWYoJ9vfq1YsleyZPnkxpA8VsMh49epQ1oYcveZwzZ47H+xGrOyWrdUNW3yzFBD/Yvn17lhxUq1bNyJQpE0tOtm3bFpQHFkpY/Q3p9PEe/5gwYYLHe/Pq1SvaL5sOrLEH6ewKMn/Bs5VOLEuhiac8Ll++3ON9Bcq9su1vrFu3zliyZIlx6tQp1jp4+fIlnfT06dOscQfHYP+XL19Y4wBNDNtqS6YfMmQIS/8GrvFUqVKlYq1/4Ni2bduyFJO1a9dSGhPUvDt27GDJyerVq93SqViwYIFx6NAhlhzAmZ01axZLTs6fP0/nu3r1Kmvinvnz5xsnTpxgycHZs2dJp3oX7fKITgfrvTh48CBvOVHeLfgP9evXpxNYmzmtW7f2eJMTJ05sZMiQgSUnOKZs2bIsudOtWzeP5zRBrwx8kxUrVnhdVD0N8Y2rv9GzZ0/W+sbJkyfpOGvB5Eq7du2o9obvhrTSiaS11R/JmzcvLXYkSpTIyJ8/Px177do10i1evJhkLCqg79ChA0txx+fPn+m3UKhi/ejRI95jGDdv3vQ7j9DhHR48eDD5vzly5DBatmzJe53Yvo1mafTixQvWOICjV6lSJZZigmNq1qxJ1RVeThiWea7evXtzKne2bNmi/C0rZhXo6xIKuObn69evrPXOmjVr6Bg433akSZPGqFKliltkLo5p1KgRSw6gs+sk2bNnz+8SE+mioqKMBw8e0DbYvXs3ra2kTp3aKFOmDEtxB3yBJ0+e/PZrR40axXscQNenTx+W3LHmEbVI//79jYEDB5L/jAXHHjhwgFM4sZ2Pga7AZcuW4e6wxgG6w1q1aiXkg2ONE/mCiyZNmoiOHTsK+dCoixaDZxhhlDeYutFq1arFqZ1gUAwjxtJZogG2uGbXrl1i8+bNImnSpKxRI5uDdD3ypWKN/zx9+lRkyZKFtm1utZJx48aJ4cOHezzGHJxyTQPd0KFDxfjx41nj0PXo0UPIQoo1aooUKSJkbS9kk8prXjE4JmsX8e7dO9bEBN2nsjAQCRJ4HhXAfW7YsKHy3XAF14GAy3379pGM2ZfoxrbLqy95tMM2xxs3brSdBy2rZd5yBx8TAEuXLqUPDERHR4tp06b9Dsu2u3CMAQBMAvrXwMsNZNOI1r7iLSDx+PHjtF6/fj2tgfQJaI2XzIppnJ6QTQoyCk+hEiYo+FRjAq7gHUIBKlsMHhdMLZZtfz7KHhSa+/fvZ0mIESNGUMFlhy95tEVamxLsUjnE0A8YMIAld9BvrzoldOiutePWrVuUBk0lT5w5c4ba6vh9b4unLs744vDhw3Rd/voXQJb4yntpMnr06Bj75YuiPAa6zp07s2QPmilI661JC4oWLUpNlfhk2LBhbtenulZXAsmjssZA0wbgO0sq5IvMW+68ffuWpmy6gmAtsG3bNlqrkM4jrRGj5AmMlCPGBaWLt+Xs2bN81J8DzcO0adMK2U5mje9gbjnABxtUbN26VSRLlowlB5s2baKmhQo0Ozxx6dIlsW7dOtr29KxM7t275/V5BZu6devylmMOi2ukgYqA8sgG4oY5zVMFegdk240ld9BLgl4pV3Aeu/QmGARDOl9Kqr+FzJkz0zXFdgwDXaU4XranWeMO9qF3xRXozA4O167NwoUL23aVg2/fvtGxAM9PvoC0DWcVTq8KpLeOVcUH+F1ES5j59UQgeVSevXz58rY/LB1r231mkwhdjXgh0H1oNRQVLVq08OlC/xbQ64HrsevR8RWcA2EcVh4+fEj70LfvCnRosnbp0oWaESZmeM7Hjx9Z48Ccb47lypUrpMO4CeRFixbRWsWxY8doH3qv4hszv69fv2aNmkDzqLxynLBOnTosuWPGoqi6uAD8gMjISKNgwYLGpEmTWOsZnA/dhP8CGGzC9QQjTmr69Ol0LisoyeG3WGtYDK5WqFCBxnqs4DzW+CHEwsGArFGp0skl47KjefPmRvLkyVmKX1KkSEEFjzcCzWOMu26W+qoRTxPZbqOBkWCw1jJ6+7eDa0mQIAFLgYPzYbA1UMzYIDSbAuHChQt0Hk8Dj3EFxsUwGOmNYOQxxhtpFzhoBWmGDh3KUux4//49nQeDWf8CKDBwPYgcCBYIz8E5gxEyYzZZY2sct2/fpuOjo6NZE/ds2LCB1gh1wW97I1h5/P1LmFhjlt4rV65krT0YxUVaONbWuChfGDNmDB2vqvb/Rszr8dblHFvM8BI0ZQPBjJvCCLA/VK9enY6DXxKf4DfTp09Pa28dGcHMIxkGwg4Q6lG7dm2/Z3bBj/A3Zgb+CXyYnz9/subPYM5PMH0hhClHRESQbtmyZaTzBTOatmrVqqyJG1DD2vUS+QvizvwB1xjfIE6qVq1axsSJE1njmWDmMWw/0YnxFoSpzJw5U0gnlMZu8GFnjN5Lh5TGTHy9NarQDM3fTdh+DAExPNWqVRPp0qWjKY+9evWiD6dly5ZNNG7cmFN5x/wqyLNnz2gdGxArhFimhw8fskbzx0GNEc4gHNt6G4oUKWLkzp2bJXvMnh7MvQgEDOLhPH+iuaJRE7Y1hsmdO3coktgV/N1Y8+bNWVLz8uVLqmVKlChBH4QIBHPyPmorTWgQ1n8DgM/u42sl8Cuk40w6RKjik/zwOcwPLqsIpl+hfZTQI6wNA/+Hgf/FcL0FCBPHXAhPtwXBbPgEENKWL1+ePtzmL5ijgKBLzFnAnA2gDSOEgGGEK6qYMHNKL0C/uDVcYtOmTbQ/LhZN6BDWPsaJEyfo35BcMf+LD80bTKyCD+GKp4/LBYK3WW6a+EX/1ZgCzA+x+088TL/1NiXWX/AIMAUY39HVhAbaMDQaBbr+1mgUaMPQaBRow9BoFGjD0GgUaMPQaBRow9BoFGjD0GgUaMPQaBRow9BoFGjD0GhiIMT/xzosKnwTMBEAAAAASUVORK5CYII=)\n",
        "\n",
        "\n",
        "dervative with respect to theta_1:\n",
        "\n",
        "\n",
        "![download (4).png](data:image/png;base64,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)\n",
        "\n",
        "dervative with respect to theta_0:\n",
        "\n",
        "\n",
        "![download (3).png](data:image/png;base64,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)\n",
        "\n",
        "![download (5).png](data:image/png;base64,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)\n"
      ]
    },
    {
      "cell_type": "code",
      "execution_count": 15,
      "metadata": {},
      "outputs": [],
      "source": [
        "iteration=200\n",
        "l_r=0.001\n",
        "n_samples=x.shape[0]"
      ]
    },
    {
      "cell_type": "code",
      "execution_count": 16,
      "metadata": {},
      "outputs": [
        {
          "data": {
            "text/plain": [
              "25"
            ]
          },
          "execution_count": 16,
          "metadata": {},
          "output_type": "execute_result"
        }
      ],
      "source": [
        "x.shape[0]"
      ]
    },
    {
      "cell_type": "code",
      "execution_count": 17,
      "metadata": {},
      "outputs": [
        {
          "data": {
            "text/plain": [
              "range(0, 200)"
            ]
          },
          "execution_count": 17,
          "metadata": {},
          "output_type": "execute_result"
        }
      ],
      "source": [
        "range(iteration)"
      ]
    },
    {
      "cell_type": "code",
      "execution_count": 18,
      "metadata": {},
      "outputs": [],
      "source": [
        "theta_0 =0\n",
        "theta_1 =1\n",
        "losses=[]\n",
        "for i in range(iteration):\n",
        "    h_x= theta_0 + theta_1*x \n",
        "    cost=( 1/n_samples)* np.sum((h_x -Y)**2)\n",
        "    losses.append(cost)\n",
        "    d_theta0= (1/n_samples)* np.sum(h_x-Y)\n",
        "    d_theta1= (1/n_samples)* np.sum((h_x-Y)*x)\n",
        "    theta_0=theta_0 - l_r * d_theta0\n",
        "    theta_1=theta_1 - l_r * d_theta1"
      ]
    },
    {
      "cell_type": "code",
      "execution_count": 19,
      "metadata": {},
      "outputs": [
        {
          "data": {
            "text/plain": [
              "29.085331442674878"
            ]
          },
          "execution_count": 19,
          "metadata": {},
          "output_type": "execute_result"
        }
      ],
      "source": [
        "cost"
      ]
    },
    {
      "cell_type": "code",
      "execution_count": 22,
      "metadata": {},
      "outputs": [],
      "source": [
        "from sklearn.linear_model import LinearRegression"
      ]
    },
    {
      "cell_type": "code",
      "execution_count": null,
      "metadata": {},
      "outputs": [
        {
          "ename": "ValueError",
          "evalue": "Expected 2D array, got 1D array instead:\narray=[2.5 5.1 3.2 8.5 3.5 1.5 9.2 5.5 8.3 2.7 7.7 5.9 4.5 3.3 1.1 8.9 2.5 1.9\n 6.1 7.4 2.7 4.8 3.8 6.9 7.8].\nReshape your data either using array.reshape(-1, 1) if your data has a single feature or array.reshape(1, -1) if it contains a single sample.",
          "output_type": "error",
          "traceback": [
            "\u001b[1;31m---------------------------------------------------------------------------\u001b[0m",
            "\u001b[1;31mValueError\u001b[0m                                Traceback (most recent call last)",
            "\u001b[1;32m~\\AppData\\Local\\Temp/ipykernel_2772/2664827084.py\u001b[0m in \u001b[0;36m<module>\u001b[1;34m\u001b[0m\n\u001b[0;32m      1\u001b[0m \u001b[0mreg\u001b[0m \u001b[1;33m=\u001b[0m \u001b[0mLinearRegression\u001b[0m\u001b[1;33m(\u001b[0m\u001b[1;33m)\u001b[0m\u001b[1;33m\u001b[0m\u001b[1;33m\u001b[0m\u001b[0m\n\u001b[1;32m----> 2\u001b[1;33m \u001b[0mreg\u001b[0m\u001b[1;33m.\u001b[0m\u001b[0mfit\u001b[0m\u001b[1;33m(\u001b[0m\u001b[0mx\u001b[0m\u001b[1;33m,\u001b[0m\u001b[0mY\u001b[0m\u001b[1;33m)\u001b[0m\u001b[1;33m\u001b[0m\u001b[1;33m\u001b[0m\u001b[0m\n\u001b[0m",
            "\u001b[1;32mc:\\Users\\User\\anaconda3\\lib\\site-packages\\sklearn\\linear_model\\_base.py\u001b[0m in \u001b[0;36mfit\u001b[1;34m(self, X, y, sample_weight)\u001b[0m\n\u001b[0;32m    660\u001b[0m         \u001b[0maccept_sparse\u001b[0m \u001b[1;33m=\u001b[0m \u001b[1;32mFalse\u001b[0m \u001b[1;32mif\u001b[0m \u001b[0mself\u001b[0m\u001b[1;33m.\u001b[0m\u001b[0mpositive\u001b[0m \u001b[1;32melse\u001b[0m \u001b[1;33m[\u001b[0m\u001b[1;34m\"csr\"\u001b[0m\u001b[1;33m,\u001b[0m \u001b[1;34m\"csc\"\u001b[0m\u001b[1;33m,\u001b[0m \u001b[1;34m\"coo\"\u001b[0m\u001b[1;33m]\u001b[0m\u001b[1;33m\u001b[0m\u001b[1;33m\u001b[0m\u001b[0m\n\u001b[0;32m    661\u001b[0m \u001b[1;33m\u001b[0m\u001b[0m\n\u001b[1;32m--> 662\u001b[1;33m         X, y = self._validate_data(\n\u001b[0m\u001b[0;32m    663\u001b[0m             \u001b[0mX\u001b[0m\u001b[1;33m,\u001b[0m \u001b[0my\u001b[0m\u001b[1;33m,\u001b[0m \u001b[0maccept_sparse\u001b[0m\u001b[1;33m=\u001b[0m\u001b[0maccept_sparse\u001b[0m\u001b[1;33m,\u001b[0m \u001b[0my_numeric\u001b[0m\u001b[1;33m=\u001b[0m\u001b[1;32mTrue\u001b[0m\u001b[1;33m,\u001b[0m \u001b[0mmulti_output\u001b[0m\u001b[1;33m=\u001b[0m\u001b[1;32mTrue\u001b[0m\u001b[1;33m\u001b[0m\u001b[1;33m\u001b[0m\u001b[0m\n\u001b[0;32m    664\u001b[0m         )\n",
            "\u001b[1;32mc:\\Users\\User\\anaconda3\\lib\\site-packages\\sklearn\\base.py\u001b[0m in \u001b[0;36m_validate_data\u001b[1;34m(self, X, y, reset, validate_separately, **check_params)\u001b[0m\n\u001b[0;32m    579\u001b[0m                 \u001b[0my\u001b[0m \u001b[1;33m=\u001b[0m \u001b[0mcheck_array\u001b[0m\u001b[1;33m(\u001b[0m\u001b[0my\u001b[0m\u001b[1;33m,\u001b[0m \u001b[1;33m**\u001b[0m\u001b[0mcheck_y_params\u001b[0m\u001b[1;33m)\u001b[0m\u001b[1;33m\u001b[0m\u001b[1;33m\u001b[0m\u001b[0m\n\u001b[0;32m    580\u001b[0m             \u001b[1;32melse\u001b[0m\u001b[1;33m:\u001b[0m\u001b[1;33m\u001b[0m\u001b[1;33m\u001b[0m\u001b[0m\n\u001b[1;32m--> 581\u001b[1;33m                 \u001b[0mX\u001b[0m\u001b[1;33m,\u001b[0m \u001b[0my\u001b[0m \u001b[1;33m=\u001b[0m \u001b[0mcheck_X_y\u001b[0m\u001b[1;33m(\u001b[0m\u001b[0mX\u001b[0m\u001b[1;33m,\u001b[0m \u001b[0my\u001b[0m\u001b[1;33m,\u001b[0m \u001b[1;33m**\u001b[0m\u001b[0mcheck_params\u001b[0m\u001b[1;33m)\u001b[0m\u001b[1;33m\u001b[0m\u001b[1;33m\u001b[0m\u001b[0m\n\u001b[0m\u001b[0;32m    582\u001b[0m             \u001b[0mout\u001b[0m \u001b[1;33m=\u001b[0m \u001b[0mX\u001b[0m\u001b[1;33m,\u001b[0m \u001b[0my\u001b[0m\u001b[1;33m\u001b[0m\u001b[1;33m\u001b[0m\u001b[0m\n\u001b[0;32m    583\u001b[0m \u001b[1;33m\u001b[0m\u001b[0m\n",
            "\u001b[1;32mc:\\Users\\User\\anaconda3\\lib\\site-packages\\sklearn\\utils\\validation.py\u001b[0m in \u001b[0;36mcheck_X_y\u001b[1;34m(X, y, accept_sparse, accept_large_sparse, dtype, order, copy, force_all_finite, ensure_2d, allow_nd, multi_output, ensure_min_samples, ensure_min_features, y_numeric, estimator)\u001b[0m\n\u001b[0;32m    962\u001b[0m         \u001b[1;32mraise\u001b[0m \u001b[0mValueError\u001b[0m\u001b[1;33m(\u001b[0m\u001b[1;34m\"y cannot be None\"\u001b[0m\u001b[1;33m)\u001b[0m\u001b[1;33m\u001b[0m\u001b[1;33m\u001b[0m\u001b[0m\n\u001b[0;32m    963\u001b[0m \u001b[1;33m\u001b[0m\u001b[0m\n\u001b[1;32m--> 964\u001b[1;33m     X = check_array(\n\u001b[0m\u001b[0;32m    965\u001b[0m         \u001b[0mX\u001b[0m\u001b[1;33m,\u001b[0m\u001b[1;33m\u001b[0m\u001b[1;33m\u001b[0m\u001b[0m\n\u001b[0;32m    966\u001b[0m         \u001b[0maccept_sparse\u001b[0m\u001b[1;33m=\u001b[0m\u001b[0maccept_sparse\u001b[0m\u001b[1;33m,\u001b[0m\u001b[1;33m\u001b[0m\u001b[1;33m\u001b[0m\u001b[0m\n",
            "\u001b[1;32mc:\\Users\\User\\anaconda3\\lib\\site-packages\\sklearn\\utils\\validation.py\u001b[0m in \u001b[0;36mcheck_array\u001b[1;34m(array, accept_sparse, accept_large_sparse, dtype, order, copy, force_all_finite, ensure_2d, allow_nd, ensure_min_samples, ensure_min_features, estimator)\u001b[0m\n\u001b[0;32m    767\u001b[0m             \u001b[1;31m# If input is 1D raise error\u001b[0m\u001b[1;33m\u001b[0m\u001b[1;33m\u001b[0m\u001b[0m\n\u001b[0;32m    768\u001b[0m             \u001b[1;32mif\u001b[0m \u001b[0marray\u001b[0m\u001b[1;33m.\u001b[0m\u001b[0mndim\u001b[0m \u001b[1;33m==\u001b[0m \u001b[1;36m1\u001b[0m\u001b[1;33m:\u001b[0m\u001b[1;33m\u001b[0m\u001b[1;33m\u001b[0m\u001b[0m\n\u001b[1;32m--> 769\u001b[1;33m                 raise ValueError(\n\u001b[0m\u001b[0;32m    770\u001b[0m                     \u001b[1;34m\"Expected 2D array, got 1D array instead:\\narray={}.\\n\"\u001b[0m\u001b[1;33m\u001b[0m\u001b[1;33m\u001b[0m\u001b[0m\n\u001b[0;32m    771\u001b[0m                     \u001b[1;34m\"Reshape your data either using array.reshape(-1, 1) if \"\u001b[0m\u001b[1;33m\u001b[0m\u001b[1;33m\u001b[0m\u001b[0m\n",
            "\u001b[1;31mValueError\u001b[0m: Expected 2D array, got 1D array instead:\narray=[2.5 5.1 3.2 8.5 3.5 1.5 9.2 5.5 8.3 2.7 7.7 5.9 4.5 3.3 1.1 8.9 2.5 1.9\n 6.1 7.4 2.7 4.8 3.8 6.9 7.8].\nReshape your data either using array.reshape(-1, 1) if your data has a single feature or array.reshape(1, -1) if it contains a single sample."
          ]
        }
      ],
      "source": [
        "reg = LinearRegression(cv =10)\n",
        "reg.fit(x,Y)"
      ]
    },
    {
      "cell_type": "markdown",
      "metadata": {
        "id": "WheafOlIRPb0"
      },
      "source": [
        "#Hyperparameters"
      ]
    },
    {
      "cell_type": "code",
      "execution_count": 13,
      "metadata": {},
      "outputs": [
        {
          "data": {
            "text/plain": [
              "33.24491198658197"
            ]
          },
          "execution_count": 13,
          "metadata": {},
          "output_type": "execute_result"
        }
      ],
      "source": [
        "cost"
      ]
    },
    {
      "cell_type": "code",
      "execution_count": 14,
      "metadata": {},
      "outputs": [
        {
          "data": {
            "text/plain": [
              "[2659.5692,\n",
              " 2493.656629335266,\n",
              " 2338.208693171131,\n",
              " 2192.565353346657,\n",
              " 2056.108202431068,\n",
              " 1928.257837939678,\n",
              " 1808.471402166455,\n",
              " 1696.2402771872707,\n",
              " 1591.087925246704,\n",
              " 1492.5678653585987,\n",
              " 1400.261777528931,\n",
              " 1313.7777265514442,\n",
              " 1232.7484978342015,\n",
              " 1156.830038190915,\n",
              " 1085.6999949765811,\n",
              " 1019.0563473645308,\n",
              " 956.6161239532375,\n",
              " 898.1142012577938,\n",
              " 843.3021779843913,\n",
              " 791.9473203079332,\n",
              " 743.8315736743795,\n",
              " 698.7506369318991,\n",
              " 656.5130948595454,\n",
              " 616.939605410144,\n",
              " 579.862138216381,\n",
              " 545.1232611267649,\n",
              " 512.575471742061,\n",
              " 482.0805711138707,\n",
              " 453.50907694605917,\n",
              " 426.7396738074553,\n",
              " 401.65869802140463,\n",
              " 378.15965504499707,\n",
              " 356.14276728873796,\n",
              " 335.51455045668797,\n",
              " 316.1874166081923,\n",
              " 298.07930225578474,\n",
              " 281.11331992015266,\n",
              " 265.2174316626512,\n",
              " 250.3241432091727,\n",
              " 236.37021736660685,\n",
              " 223.29640551504767,\n",
              " 211.04719603564953,\n",
              " 199.57057860594873,\n",
              " 188.81782336183656,\n",
              " 178.74327398849798,\n",
              " 169.30415386177006,\n",
              " 160.460384416788,\n",
              " 152.1744149727057,\n",
              " 144.4110632909188,\n",
              " 137.13736618979277,\n",
              " 130.32243958160115,\n",
              " 123.93734733738455,\n",
              " 117.95497842292427,\n",
              " 112.34993178414558,\n",
              " 107.09840849316957,\n",
              " 102.17811069705922,\n",
              " 97.56814694019431,\n",
              " 93.24894345826777,\n",
              " 89.2021610672562,\n",
              " 85.41061729446905,\n",
              " 81.85821342104416,\n",
              " 78.52986612610718,\n",
              " 75.41144344235356,\n",
              " 72.48970475111915,\n",
              " 69.75224456215335,\n",
              " 67.18743983938357,\n",
              " 64.78440064901314,\n",
              " 62.53292392040253,\n",
              " 60.423450123400016,\n",
              " 58.447022678173056,\n",
              " 56.595249925192014,\n",
              " 54.86026949388895,\n",
              " 53.23471491870043,\n",
              " 51.7116843607436,\n",
              " 50.28471130231633,\n",
              " 48.94773708979027,\n",
              " 47.69508520831147,\n",
              " 46.521437179078625,\n",
              " 45.42180997685722,\n",
              " 44.39153487184415,\n",
              " 43.426237606043635,\n",
              " 42.52181981998294,\n",
              " 41.674441650905266,\n",
              " 40.880505428549924,\n",
              " 40.136640399292666,\n",
              " 39.43968841378336,\n",
              " 38.786690517310525,\n",
              " 38.17487438595462,\n",
              " 37.60164255518358,\n",
              " 37.064561390908835,\n",
              " 36.561350756171976,\n",
              " 36.08987432958718,\n",
              " 35.648130534430344,\n",
              " 35.23424403985961,\n",
              " 34.846457798181724,\n",
              " 34.48312558435307,\n",
              " 34.142705006038796,\n",
              " 33.82375095454982,\n",
              " 33.52490946885032,\n",
              " 33.24491198658197]"
            ]
          },
          "execution_count": 14,
          "metadata": {},
          "output_type": "execute_result"
        }
      ],
      "source": [
        "losses\n"
      ]
    },
    {
      "cell_type": "code",
      "execution_count": 42,
      "metadata": {},
      "outputs": [
        {
          "data": {
            "text/plain": [
              "array([ 1.55605719,  2.51907666,  3.48209613,  4.44511561,  5.40813508,\n",
              "        6.37115455,  7.33417402,  8.29719349,  9.26021296, 10.22323244,\n",
              "       11.18625191, 12.14927138, 13.11229085, 14.07531032, 15.03832979,\n",
              "       16.00134926, 16.96436874, 17.92738821, 18.89040768, 19.85342715,\n",
              "       20.81644662, 21.77946609, 22.74248556, 23.70550504, 24.66852451,\n",
              "       25.63154398, 26.59456345, 27.55758292, 28.52060239, 29.48362186,\n",
              "       30.44664134, 31.40966081, 32.37268028, 33.33569975, 34.29871922,\n",
              "       35.26173869, 36.22475816, 37.18777764, 38.15079711, 39.11381658,\n",
              "       40.07683605, 41.03985552, 42.00287499, 42.96589446, 43.92891394,\n",
              "       44.89193341, 45.85495288, 46.81797235, 47.78099182, 48.74401129,\n",
              "       49.70703076, 50.67005024, 51.63306971, 52.59608918, 53.55910865,\n",
              "       54.52212812, 55.48514759, 56.44816707, 57.41118654, 58.37420601,\n",
              "       59.33722548, 60.30024495, 61.26326442, 62.22628389, 63.18930337,\n",
              "       64.15232284, 65.11534231, 66.07836178, 67.04138125, 68.00440072,\n",
              "       68.96742019, 69.93043967, 70.89345914, 71.85647861, 72.81949808,\n",
              "       73.78251755, 74.74553702, 75.70855649, 76.67157597, 77.63459544,\n",
              "       78.59761491, 79.56063438, 80.52365385, 81.48667332, 82.44969279,\n",
              "       83.41271227, 84.37573174, 85.33875121, 86.30177068, 87.26479015,\n",
              "       88.22780962, 89.19082909, 90.15384857, 91.11686804, 92.07988751,\n",
              "       93.04290698, 94.00592645, 94.96894592, 95.93196539, 96.89498487])"
            ]
          },
          "execution_count": 42,
          "metadata": {},
          "output_type": "execute_result"
        }
      ],
      "source": [
        "theta_0+theta_1*x_line"
      ]
    },
    {
      "cell_type": "code",
      "execution_count": 14,
      "metadata": {
        "colab": {
          "base_uri": "https://localhost:8080/",
          "height": 564
        },
        "id": "IS7FtQtqY5sV",
        "outputId": "97b984ba-8d57-436c-b7cb-eb0fe79c8f2d"
      },
      "outputs": [
        {
          "data": {
            "image/png": "[encoded data removed]",
            "text/plain": [
              "<Figure size 800x600 with 1 Axes>"
            ]
          },
          "metadata": {},
          "output_type": "display_data"
        }
      ],
      "source": [
        "x_line = np.linspace(x.min(), x.max(), 100)  # Generate 100 points within the range of x\n",
        "y_line = theta_0 + theta_1 * x_line  # Compute corresponding y values using the regression model\n",
        "\n",
        "plt.figure(figsize=(8,6))\n",
        "plt.title('Data distribution')\n",
        "plt.plot(x_line, y_line, c='r', label=\"Regression Line\")  # Regression line\n",
        "plt.scatter(x, Y, s=10, label=\"Actual Data\")  # Scatter plot of actual data\n",
        "plt.xlabel('Hours')\n",
        "plt.ylabel('Score')\n",
        "plt.legend()\n",
        "plt.show()\n"
      ]
    },
    {
      "cell_type": "code",
      "execution_count": 15,
      "metadata": {
        "colab": {
          "base_uri": "https://localhost:8080/",
          "height": 579
        },
        "id": "9UpjzVaqW5KW",
        "outputId": "8de620fc-7d78-46e7-cc73-3a0e191d1998"
      },
      "outputs": [
        {
          "name": "stdout",
          "output_type": "stream",
          "text": [
            "Initial loss\t: 3264.04\n",
            "Final loss\t: 34.14344176849552\n"
          ]
        },
        {
          "data": {
            "image/png": "[encoded data removed]",
            "text/plain": [
              "<Figure size 800x600 with 1 Axes>"
            ]
          },
          "metadata": {},
          "output_type": "display_data"
        }
      ],
      "source": [
        "plt.figure(figsize=(8,6))\n",
        "plt.plot(losses)\n",
        "plt.xlabel('iteration')\n",
        "plt.ylabel('loss')\n",
        "print('Initial loss\\t:', losses[0])\n",
        "print('Final loss\\t:', losses[-1])\n",
        "\n"
      ]
    },
    {
      "cell_type": "code",
      "execution_count": null,
      "metadata": {
        "id": "FFhel7k3XiG2"
      },
      "outputs": [
        {
          "name": "stdout",
          "output_type": "stream",
          "text": [
            "theta_0=  1.5560571920848365\n",
            "theta_1=  9.533892767420717\n",
            "MSE=  34.14344176849552\n"
          ]
        }
      ],
      "source": [
        "print(\"theta_0= \", theta_0)\n",
        "print(\"theta_1= \", theta_1)\n",
        "print(\"MSE= \", cost)"
      ]
    },
    {
      "cell_type": "code",
      "execution_count": null,
      "metadata": {},
      "outputs": [
        {
          "data": {
            "text/plain": [
              "33.017903324573204"
            ]
          },
          "execution_count": 20,
          "metadata": {},
          "output_type": "execute_result"
        }
      ],
      "source": [
        "new_x=3.3\n",
        "\n",
        "predicated_model=theta_0+theta_1*new_x\n",
        "predicated_model"
      ]
    },
    {
      "cell_type": "code",
      "execution_count": 29,
      "metadata": {},
      "outputs": [
        {
          "data": {
            "text/plain": [
              "0     25.390789\n",
              "1     50.178910\n",
              "2     32.064514\n",
              "3     82.594146\n",
              "4     34.924682\n",
              "5     15.856896\n",
              "6     89.267871\n",
              "7     53.992467\n",
              "8     80.687367\n",
              "9     27.297568\n",
              "10    74.967032\n",
              "11    57.806025\n",
              "12    44.458575\n",
              "13    33.017903\n",
              "14    12.043339\n",
              "15    86.407703\n",
              "16    25.390789\n",
              "17    19.670453\n",
              "18    59.712803\n",
              "19    72.106864\n",
              "20    27.297568\n",
              "21    47.318742\n",
              "22    37.784850\n",
              "23    67.339917\n",
              "24    75.920421\n",
              "Name: Hours, dtype: float64"
            ]
          },
          "execution_count": 29,
          "metadata": {},
          "output_type": "execute_result"
        }
      ],
      "source": [
        "x_model =x\n",
        "predicated_model=theta_0+theta_1*x_model\n",
        "predicated_model"
      ]
    },
    {
      "cell_type": "code",
      "execution_count": 38,
      "metadata": {},
      "outputs": [
        {
          "data": {
            "image/png": "[encoded data removed]",
            "text/plain": [
              "<Figure size 640x480 with 1 Axes>"
            ]
          },
          "metadata": {},
          "output_type": "display_data"
        }
      ],
      "source": [
        "plt.Figure(figsize=(8,6))\n",
        "\n",
        "\n",
        "plt.plot(Y, 'ro-',label=\"Actual points\")\n",
        "plt.plot(predicated_model, 'bo--',label=\"Predicted points\")\n",
        "plt.xlim(-2, len(Y) + 1)  # Expands the x-axis range\n",
        "plt.ylim(min(Y) - 10, max(Y) + 1)  # Expands the y-axis range\n",
        "plt.legend()\n",
        "plt.grid(True)  # Optional: Adds a grid for better readability\n",
        "\n"
      ]
    },
    {
      "cell_type": "code",
      "execution_count": null,
      "metadata": {},
      "outputs": [],
      "source": [
        "plt.plot(Y, 'ro-', label=\"Actual Points\")  # Red dots with solid line\n",
        "\n",
        "# Plot predicted points\n",
        "plt.plot(predicated_model, 'bo--', label=\"Predicted Points\")  # Blue dots with dashed line\n",
        "\n",
        "# Labels & legend\n",
        "plt.xlabel(\"Index\")\n",
        "plt.ylabel(\"Scores\")\n",
        "plt.title(\"Actual vs Predicted Points\")\n",
        "plt.legend()\n",
        "plt.grid(True)  # Optional: Adds a grid for better readability\n",
        "\n",
        "# Show plot\n",
        "plt.show()"
      ]
    },
    {
      "cell_type": "code",
      "execution_count": 53,
      "metadata": {},
      "outputs": [],
      "source": [
        "dat = {\n",
        "    \"Hours\": [2.5, 5.1, 3.2, 8.5, 3.5, 1.5, 9.2, 5.5, 8.3, 2.7,\n",
        "              7.7, 5.9, 4.5, 3.3, 1.1, 8.9, 2.5, 1.9, 6.1, 7.4,\n",
        "              2.7, 4.8, 3.8, 6.9, 7.8],\n",
        "    \"Study Sessions\": [1, 3, 2, 5, 2, 1, 6, 3, 5, 1,\n",
        "                       5, 3, 2, 2, 1, 6, 2, 1, 4, 5,\n",
        "                       1, 2, 2, 4, 5],\n",
        "    \"Break Time\": [30, 20, 25, 10, 28, 35, 5, 18, 12, 30,\n",
        "                   8, 15, 25, 27, 40, 6, 32, 38, 12, 10,\n",
        "                   34, 22, 29, 14, 9],\n",
        "    \"Scores\": [21, 47, 27, 75, 30, 20, 88, 60, 81, 25,\n",
        "               85, 62, 41, 42, 17, 95, 30, 24, 67, 69,\n",
        "               30, 54, 35, 76, 86]\n",
        "}\n",
        "\n",
        "# Convert to DataFrame\n",
        "dff = pd.DataFrame(dat)"
      ]
    },
    {
      "cell_type": "code",
      "execution_count": 54,
      "metadata": {},
      "outputs": [
        {
          "data": {
            "text/html": [
              "<div>\n",
              "<style scoped>\n",
              "    .dataframe tbody tr th:only-of-type {\n",
              "        vertical-align: middle;\n",
              "    }\n",
              "\n",
              "    .dataframe tbody tr th {\n",
              "        vertical-align: top;\n",
              "    }\n",
              "\n",
              "    .dataframe thead th {\n",
              "        text-align: right;\n",
              "    }\n",
              "</style>\n",
              "<table border=\"1\" class=\"dataframe\">\n",
              "  <thead>\n",
              "    <tr style=\"text-align: right;\">\n",
              "      <th></th>\n",
              "      <th>Hours</th>\n",
              "      <th>Study Sessions</th>\n",
              "      <th>Break Time</th>\n",
              "      <th>Scores</th>\n",
              "    </tr>\n",
              "  </thead>\n",
              "  <tbody>\n",
              "    <tr>\n",
              "      <th>0</th>\n",
              "      <td>2.5</td>\n",
              "      <td>1</td>\n",
              "      <td>30</td>\n",
              "      <td>21</td>\n",
              "    </tr>\n",
              "    <tr>\n",
              "      <th>1</th>\n",
              "      <td>5.1</td>\n",
              "      <td>3</td>\n",
              "      <td>20</td>\n",
              "      <td>47</td>\n",
              "    </tr>\n",
              "    <tr>\n",
              "      <th>2</th>\n",
              "      <td>3.2</td>\n",
              "      <td>2</td>\n",
              "      <td>25</td>\n",
              "      <td>27</td>\n",
              "    </tr>\n",
              "    <tr>\n",
              "      <th>3</th>\n",
              "      <td>8.5</td>\n",
              "      <td>5</td>\n",
              "      <td>10</td>\n",
              "      <td>75</td>\n",
              "    </tr>\n",
              "  </tbody>\n",
              "</table>\n",
              "</div>"
            ],
            "text/plain": [
              "   Hours  Study Sessions  Break Time  Scores\n",
              "0    2.5               1          30      21\n",
              "1    5.1               3          20      47\n",
              "2    3.2               2          25      27\n",
              "3    8.5               5          10      75"
            ]
          },
          "execution_count": 54,
          "metadata": {},
          "output_type": "execute_result"
        }
      ],
      "source": [
        "dff.head(4)"
      ]
    },
    {
      "cell_type": "code",
      "execution_count": 63,
      "metadata": {},
      "outputs": [],
      "source": [
        "x=dff.iloc[:,:3]\n",
        "y=dff[\"Scores\"]"
      ]
    },
    {
      "cell_type": "code",
      "execution_count": 64,
      "metadata": {},
      "outputs": [
        {
          "data": {
            "text/plain": [
              "0     21\n",
              "1     47\n",
              "2     27\n",
              "3     75\n",
              "4     30\n",
              "5     20\n",
              "6     88\n",
              "7     60\n",
              "8     81\n",
              "9     25\n",
              "10    85\n",
              "11    62\n",
              "12    41\n",
              "13    42\n",
              "14    17\n",
              "15    95\n",
              "16    30\n",
              "17    24\n",
              "18    67\n",
              "19    69\n",
              "20    30\n",
              "21    54\n",
              "22    35\n",
              "23    76\n",
              "24    86\n",
              "Name: Scores, dtype: int64"
            ]
          },
          "execution_count": 64,
          "metadata": {},
          "output_type": "execute_result"
        }
      ],
      "source": [
        "y"
      ]
    },
    {
      "cell_type": "code",
      "execution_count": 133,
      "metadata": {},
      "outputs": [
        {
          "data": {
            "text/html": [
              "<div>\n",
              "<style scoped>\n",
              "    .dataframe tbody tr th:only-of-type {\n",
              "        vertical-align: middle;\n",
              "    }\n",
              "\n",
              "    .dataframe tbody tr th {\n",
              "        vertical-align: top;\n",
              "    }\n",
              "\n",
              "    .dataframe thead th {\n",
              "        text-align: right;\n",
              "    }\n",
              "</style>\n",
              "<table border=\"1\" class=\"dataframe\">\n",
              "  <thead>\n",
              "    <tr style=\"text-align: right;\">\n",
              "      <th></th>\n",
              "      <th>0</th>\n",
              "      <th>1</th>\n",
              "      <th>2</th>\n",
              "      <th>3</th>\n",
              "      <th>4</th>\n",
              "      <th>5</th>\n",
              "      <th>6</th>\n",
              "      <th>7</th>\n",
              "      <th>8</th>\n",
              "      <th>9</th>\n",
              "      <th>...</th>\n",
              "      <th>15</th>\n",
              "      <th>16</th>\n",
              "      <th>17</th>\n",
              "      <th>18</th>\n",
              "      <th>19</th>\n",
              "      <th>20</th>\n",
              "      <th>21</th>\n",
              "      <th>22</th>\n",
              "      <th>23</th>\n",
              "      <th>24</th>\n",
              "    </tr>\n",
              "  </thead>\n",
              "  <tbody>\n",
              "    <tr>\n",
              "      <th>Hours</th>\n",
              "      <td>2.5</td>\n",
              "      <td>5.1</td>\n",
              "      <td>3.2</td>\n",
              "      <td>8.5</td>\n",
              "      <td>3.5</td>\n",
              "      <td>1.5</td>\n",
              "      <td>9.2</td>\n",
              "      <td>5.5</td>\n",
              "      <td>8.3</td>\n",
              "      <td>2.7</td>\n",
              "      <td>...</td>\n",
              "      <td>8.9</td>\n",
              "      <td>2.5</td>\n",
              "      <td>1.9</td>\n",
              "      <td>6.1</td>\n",
              "      <td>7.4</td>\n",
              "      <td>2.7</td>\n",
              "      <td>4.8</td>\n",
              "      <td>3.8</td>\n",
              "      <td>6.9</td>\n",
              "      <td>7.8</td>\n",
              "    </tr>\n",
              "    <tr>\n",
              "      <th>Study Sessions</th>\n",
              "      <td>1.0</td>\n",
              "      <td>3.0</td>\n",
              "      <td>2.0</td>\n",
              "      <td>5.0</td>\n",
              "      <td>2.0</td>\n",
              "      <td>1.0</td>\n",
              "      <td>6.0</td>\n",
              "      <td>3.0</td>\n",
              "      <td>5.0</td>\n",
              "      <td>1.0</td>\n",
              "      <td>...</td>\n",
              "      <td>6.0</td>\n",
              "      <td>2.0</td>\n",
              "      <td>1.0</td>\n",
              "      <td>4.0</td>\n",
              "      <td>5.0</td>\n",
              "      <td>1.0</td>\n",
              "      <td>2.0</td>\n",
              "      <td>2.0</td>\n",
              "      <td>4.0</td>\n",
              "      <td>5.0</td>\n",
              "    </tr>\n",
              "    <tr>\n",
              "      <th>Break Time</th>\n",
              "      <td>30.0</td>\n",
              "      <td>20.0</td>\n",
              "      <td>25.0</td>\n",
              "      <td>10.0</td>\n",
              "      <td>28.0</td>\n",
              "      <td>35.0</td>\n",
              "      <td>5.0</td>\n",
              "      <td>18.0</td>\n",
              "      <td>12.0</td>\n",
              "      <td>30.0</td>\n",
              "      <td>...</td>\n",
              "      <td>6.0</td>\n",
              "      <td>32.0</td>\n",
              "      <td>38.0</td>\n",
              "      <td>12.0</td>\n",
              "      <td>10.0</td>\n",
              "      <td>34.0</td>\n",
              "      <td>22.0</td>\n",
              "      <td>29.0</td>\n",
              "      <td>14.0</td>\n",
              "      <td>9.0</td>\n",
              "    </tr>\n",
              "  </tbody>\n",
              "</table>\n",
              "<p>3 rows × 25 columns</p>\n",
              "</div>"
            ],
            "text/plain": [
              "                  0     1     2     3     4     5    6     7     8     9   \\\n",
              "Hours            2.5   5.1   3.2   8.5   3.5   1.5  9.2   5.5   8.3   2.7   \n",
              "Study Sessions   1.0   3.0   2.0   5.0   2.0   1.0  6.0   3.0   5.0   1.0   \n",
              "Break Time      30.0  20.0  25.0  10.0  28.0  35.0  5.0  18.0  12.0  30.0   \n",
              "\n",
              "                ...   15    16    17    18    19    20    21    22    23   24  \n",
              "Hours           ...  8.9   2.5   1.9   6.1   7.4   2.7   4.8   3.8   6.9  7.8  \n",
              "Study Sessions  ...  6.0   2.0   1.0   4.0   5.0   1.0   2.0   2.0   4.0  5.0  \n",
              "Break Time      ...  6.0  32.0  38.0  12.0  10.0  34.0  22.0  29.0  14.0  9.0  \n",
              "\n",
              "[3 rows x 25 columns]"
            ]
          },
          "execution_count": 133,
          "metadata": {},
          "output_type": "execute_result"
        }
      ],
      "source": [
        "x.T "
      ]
    },
    {
      "cell_type": "code",
      "execution_count": 67,
      "metadata": {},
      "outputs": [
        {
          "data": {
            "image/png": "[encoded data removed]",
            "text/plain": [
              "<IPython.core.display.Image object>"
            ]
          },
          "metadata": {},
          "output_type": "display_data"
        }
      ],
      "source": [
        "from IPython.display import display, Image\n",
        "display(Image(\"E:/Mlop/End to end/end_end/static/ne.png\"))\n"
      ]
    },
    {
      "cell_type": "code",
      "execution_count": 158,
      "metadata": {},
      "outputs": [
        {
          "data": {
            "text/html": [
              "<div>\n",
              "<style scoped>\n",
              "    .dataframe tbody tr th:only-of-type {\n",
              "        vertical-align: middle;\n",
              "    }\n",
              "\n",
              "    .dataframe tbody tr th {\n",
              "        vertical-align: top;\n",
              "    }\n",
              "\n",
              "    .dataframe thead th {\n",
              "        text-align: right;\n",
              "    }\n",
              "</style>\n",
              "<table border=\"1\" class=\"dataframe\">\n",
              "  <thead>\n",
              "    <tr style=\"text-align: right;\">\n",
              "      <th></th>\n",
              "      <th>Hours</th>\n",
              "      <th>Study Sessions</th>\n",
              "      <th>Break Time</th>\n",
              "      <th>Scores</th>\n",
              "    </tr>\n",
              "  </thead>\n",
              "  <tbody>\n",
              "    <tr>\n",
              "      <th>0</th>\n",
              "      <td>2.5</td>\n",
              "      <td>1</td>\n",
              "      <td>30</td>\n",
              "      <td>21</td>\n",
              "    </tr>\n",
              "    <tr>\n",
              "      <th>1</th>\n",
              "      <td>5.1</td>\n",
              "      <td>3</td>\n",
              "      <td>20</td>\n",
              "      <td>47</td>\n",
              "    </tr>\n",
              "  </tbody>\n",
              "</table>\n",
              "</div>"
            ],
            "text/plain": [
              "   Hours  Study Sessions  Break Time  Scores\n",
              "0    2.5               1          30      21\n",
              "1    5.1               3          20      47"
            ]
          },
          "execution_count": 158,
          "metadata": {},
          "output_type": "execute_result"
        }
      ],
      "source": [
        "dff.head(2)"
      ]
    },
    {
      "cell_type": "code",
      "execution_count": 71,
      "metadata": {},
      "outputs": [
        {
          "data": {
            "text/html": [
              "<div>\n",
              "<style scoped>\n",
              "    .dataframe tbody tr th:only-of-type {\n",
              "        vertical-align: middle;\n",
              "    }\n",
              "\n",
              "    .dataframe tbody tr th {\n",
              "        vertical-align: top;\n",
              "    }\n",
              "\n",
              "    .dataframe thead th {\n",
              "        text-align: right;\n",
              "    }\n",
              "</style>\n",
              "<table border=\"1\" class=\"dataframe\">\n",
              "  <thead>\n",
              "    <tr style=\"text-align: right;\">\n",
              "      <th></th>\n",
              "      <th>Hours</th>\n",
              "      <th>Study Sessions</th>\n",
              "      <th>Break Time</th>\n",
              "    </tr>\n",
              "  </thead>\n",
              "  <tbody>\n",
              "    <tr>\n",
              "      <th>0</th>\n",
              "      <td>2.5</td>\n",
              "      <td>1</td>\n",
              "      <td>30</td>\n",
              "    </tr>\n",
              "    <tr>\n",
              "      <th>1</th>\n",
              "      <td>5.1</td>\n",
              "      <td>3</td>\n",
              "      <td>20</td>\n",
              "    </tr>\n",
              "    <tr>\n",
              "      <th>2</th>\n",
              "      <td>3.2</td>\n",
              "      <td>2</td>\n",
              "      <td>25</td>\n",
              "    </tr>\n",
              "    <tr>\n",
              "      <th>3</th>\n",
              "      <td>8.5</td>\n",
              "      <td>5</td>\n",
              "      <td>10</td>\n",
              "    </tr>\n",
              "    <tr>\n",
              "      <th>4</th>\n",
              "      <td>3.5</td>\n",
              "      <td>2</td>\n",
              "      <td>28</td>\n",
              "    </tr>\n",
              "    <tr>\n",
              "      <th>5</th>\n",
              "      <td>1.5</td>\n",
              "      <td>1</td>\n",
              "      <td>35</td>\n",
              "    </tr>\n",
              "    <tr>\n",
              "      <th>6</th>\n",
              "      <td>9.2</td>\n",
              "      <td>6</td>\n",
              "      <td>5</td>\n",
              "    </tr>\n",
              "    <tr>\n",
              "      <th>7</th>\n",
              "      <td>5.5</td>\n",
              "      <td>3</td>\n",
              "      <td>18</td>\n",
              "    </tr>\n",
              "    <tr>\n",
              "      <th>8</th>\n",
              "      <td>8.3</td>\n",
              "      <td>5</td>\n",
              "      <td>12</td>\n",
              "    </tr>\n",
              "    <tr>\n",
              "      <th>9</th>\n",
              "      <td>2.7</td>\n",
              "      <td>1</td>\n",
              "      <td>30</td>\n",
              "    </tr>\n",
              "    <tr>\n",
              "      <th>10</th>\n",
              "      <td>7.7</td>\n",
              "      <td>5</td>\n",
              "      <td>8</td>\n",
              "    </tr>\n",
              "    <tr>\n",
              "      <th>11</th>\n",
              "      <td>5.9</td>\n",
              "      <td>3</td>\n",
              "      <td>15</td>\n",
              "    </tr>\n",
              "    <tr>\n",
              "      <th>12</th>\n",
              "      <td>4.5</td>\n",
              "      <td>2</td>\n",
              "      <td>25</td>\n",
              "    </tr>\n",
              "    <tr>\n",
              "      <th>13</th>\n",
              "      <td>3.3</td>\n",
              "      <td>2</td>\n",
              "      <td>27</td>\n",
              "    </tr>\n",
              "    <tr>\n",
              "      <th>14</th>\n",
              "      <td>1.1</td>\n",
              "      <td>1</td>\n",
              "      <td>40</td>\n",
              "    </tr>\n",
              "    <tr>\n",
              "      <th>15</th>\n",
              "      <td>8.9</td>\n",
              "      <td>6</td>\n",
              "      <td>6</td>\n",
              "    </tr>\n",
              "    <tr>\n",
              "      <th>16</th>\n",
              "      <td>2.5</td>\n",
              "      <td>2</td>\n",
              "      <td>32</td>\n",
              "    </tr>\n",
              "    <tr>\n",
              "      <th>17</th>\n",
              "      <td>1.9</td>\n",
              "      <td>1</td>\n",
              "      <td>38</td>\n",
              "    </tr>\n",
              "    <tr>\n",
              "      <th>18</th>\n",
              "      <td>6.1</td>\n",
              "      <td>4</td>\n",
              "      <td>12</td>\n",
              "    </tr>\n",
              "    <tr>\n",
              "      <th>19</th>\n",
              "      <td>7.4</td>\n",
              "      <td>5</td>\n",
              "      <td>10</td>\n",
              "    </tr>\n",
              "    <tr>\n",
              "      <th>20</th>\n",
              "      <td>2.7</td>\n",
              "      <td>1</td>\n",
              "      <td>34</td>\n",
              "    </tr>\n",
              "    <tr>\n",
              "      <th>21</th>\n",
              "      <td>4.8</td>\n",
              "      <td>2</td>\n",
              "      <td>22</td>\n",
              "    </tr>\n",
              "    <tr>\n",
              "      <th>22</th>\n",
              "      <td>3.8</td>\n",
              "      <td>2</td>\n",
              "      <td>29</td>\n",
              "    </tr>\n",
              "    <tr>\n",
              "      <th>23</th>\n",
              "      <td>6.9</td>\n",
              "      <td>4</td>\n",
              "      <td>14</td>\n",
              "    </tr>\n",
              "    <tr>\n",
              "      <th>24</th>\n",
              "      <td>7.8</td>\n",
              "      <td>5</td>\n",
              "      <td>9</td>\n",
              "    </tr>\n",
              "  </tbody>\n",
              "</table>\n",
              "</div>"
            ],
            "text/plain": [
              "    Hours  Study Sessions  Break Time\n",
              "0     2.5               1          30\n",
              "1     5.1               3          20\n",
              "2     3.2               2          25\n",
              "3     8.5               5          10\n",
              "4     3.5               2          28\n",
              "5     1.5               1          35\n",
              "6     9.2               6           5\n",
              "7     5.5               3          18\n",
              "8     8.3               5          12\n",
              "9     2.7               1          30\n",
              "10    7.7               5           8\n",
              "11    5.9               3          15\n",
              "12    4.5               2          25\n",
              "13    3.3               2          27\n",
              "14    1.1               1          40\n",
              "15    8.9               6           6\n",
              "16    2.5               2          32\n",
              "17    1.9               1          38\n",
              "18    6.1               4          12\n",
              "19    7.4               5          10\n",
              "20    2.7               1          34\n",
              "21    4.8               2          22\n",
              "22    3.8               2          29\n",
              "23    6.9               4          14\n",
              "24    7.8               5           9"
            ]
          },
          "execution_count": 71,
          "metadata": {},
          "output_type": "execute_result"
        }
      ],
      "source": [
        "x"
      ]
    },
    {
      "cell_type": "code",
      "execution_count": 102,
      "metadata": {},
      "outputs": [],
      "source": [
        "class LinearRegression:\n",
        "    def __init__(self, l_r=0.001,iteration=100):\n",
        "        self.l_r=l_r\n",
        "        self.iteration=iteration\n",
        "        \n",
        "    def fitGD(self, x , y):\n",
        "        self.n_s =x.shape[1]\n",
        "        self.m_s = x.shape[0]\n",
        "        self.losses=[]\n",
        "        self.theta =np.zeros(1+x.shape[1])\n",
        "        \n",
        "        for i in range(self.iteration):\n",
        "            h_x=self.theta[0] +np.dot(x,self.theta[1:])\n",
        "            cost=(1/self.m_s)*np.sum((h_x-y)**2)\n",
        "            self.losses.append(cost)\n",
        "            \n",
        "            \n",
        "            d_theta0=(2/self.m_s)*np.sum(h_x-y)\n",
        "            d_theta1=(2/self.m_s)*np.dot(x.T,(h_x-y))\n",
        "            \n",
        "            self.theta[0]-= self.l_r*d_theta0\n",
        "            self.theta[1:]-= self.l_r*d_theta1\n",
        "        return self\n",
        "    \n",
        "    def fitNE(self,x,y):\n",
        "        self.z=np.ones((x.shape[0],1))\n",
        "        x=np.append(self.z,x ,axis=1)\n",
        "        self.theta=np.linalg.inv(x.T.dot(x)).dot(x.T).dot(y)\n",
        "        return self\n",
        "        \n",
        "    def predict(self,x):\n",
        "        return self.theta[0] +np.dot(x,self.theta[1:])"
      ]
    },
    {
      "cell_type": "code",
      "execution_count": 107,
      "metadata": {},
      "outputs": [
        {
          "data": {
            "text/plain": [
              "<__main__.LinearRegression at 0x1437750d1c0>"
            ]
          },
          "execution_count": 107,
          "metadata": {},
          "output_type": "execute_result"
        }
      ],
      "source": [
        "obj =LinearRegression()\n",
        "obj.fitGD(x,y)"
      ]
    },
    {
      "cell_type": "code",
      "execution_count": 104,
      "metadata": {},
      "outputs": [
        {
          "data": {
            "text/plain": [
              "<__main__.LinearRegression at 0x1437750d1f0>"
            ]
          },
          "execution_count": 104,
          "metadata": {},
          "output_type": "execute_result"
        }
      ],
      "source": [
        "obj.fitNE(x,y)"
      ]
    },
    {
      "cell_type": "code",
      "execution_count": 105,
      "metadata": {},
      "outputs": [],
      "source": [
        "tr=[5.1,3,20]"
      ]
    },
    {
      "cell_type": "code",
      "execution_count": 108,
      "metadata": {},
      "outputs": [
        {
          "data": {
            "text/plain": [
              "52.04364024559808"
            ]
          },
          "execution_count": 108,
          "metadata": {},
          "output_type": "execute_result"
        }
      ],
      "source": [
        "obj.predict(tr)"
      ]
    },
    {
      "cell_type": "code",
      "execution_count": 106,
      "metadata": {},
      "outputs": [
        {
          "data": {
            "text/plain": [
              "52.6466503655018"
            ]
          },
          "execution_count": 106,
          "metadata": {},
          "output_type": "execute_result"
        }
      ],
      "source": [
        "obj.predict(tr)"
      ]
    },
    {
      "cell_type": "code",
      "execution_count": 188,
      "metadata": {},
      "outputs": [
        {
          "data": {
            "text/html": [
              "<div>\n",
              "<style scoped>\n",
              "    .dataframe tbody tr th:only-of-type {\n",
              "        vertical-align: middle;\n",
              "    }\n",
              "\n",
              "    .dataframe tbody tr th {\n",
              "        vertical-align: top;\n",
              "    }\n",
              "\n",
              "    .dataframe thead th {\n",
              "        text-align: right;\n",
              "    }\n",
              "</style>\n",
              "<table border=\"1\" class=\"dataframe\">\n",
              "  <thead>\n",
              "    <tr style=\"text-align: right;\">\n",
              "      <th></th>\n",
              "      <th>Hours</th>\n",
              "      <th>Study Sessions</th>\n",
              "      <th>Break Time</th>\n",
              "      <th>Scores</th>\n",
              "    </tr>\n",
              "  </thead>\n",
              "  <tbody>\n",
              "    <tr>\n",
              "      <th>0</th>\n",
              "      <td>2.5</td>\n",
              "      <td>1</td>\n",
              "      <td>30</td>\n",
              "      <td>21</td>\n",
              "    </tr>\n",
              "    <tr>\n",
              "      <th>1</th>\n",
              "      <td>5.1</td>\n",
              "      <td>3</td>\n",
              "      <td>20</td>\n",
              "      <td>47</td>\n",
              "    </tr>\n",
              "  </tbody>\n",
              "</table>\n",
              "</div>"
            ],
            "text/plain": [
              "   Hours  Study Sessions  Break Time  Scores\n",
              "0    2.5               1          30      21\n",
              "1    5.1               3          20      47"
            ]
          },
          "execution_count": 188,
          "metadata": {},
          "output_type": "execute_result"
        }
      ],
      "source": [
        "dff.head(2)"
      ]
    }
  ],
  "metadata": {
    "colab": {
      "provenance": []
    },
    "kernelspec": {
      "display_name": "base",
      "language": "python",
      "name": "python3"
    },
    "language_info": {
      "codemirror_mode": {
        "name": "ipython",
        "version": 3
      },
      "file_extension": ".py",
      "mimetype": "text/x-python",
      "name": "python",
      "nbconvert_exporter": "python",
      "pygments_lexer": "ipython3",
      "version": "3.9.7"
    }
  },
  "nbformat": 4,
  "nbformat_minor": 0
}
